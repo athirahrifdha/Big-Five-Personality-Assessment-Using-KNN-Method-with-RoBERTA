{
  "cells": [
    {
      "cell_type": "code",
      "execution_count": null,
      "metadata": {
        "id": "TzmwndSQrf-4"
      },
      "outputs": [],
      "source": [
        "import pandas as pd\n",
        "import csv\n",
        "import numpy as np \n",
        "import matplotlib.pyplot as plt \n",
        "from sklearn.preprocessing import LabelEncoder\n",
        "from sklearn.decomposition import PCA\n",
        "from sklearn.model_selection import train_test_split\n",
        "import random\n",
        "import math\n",
        "import seaborn as sns\n",
        "from sklearn.metrics import roc_auc_score"
      ]
    },
    {
      "cell_type": "markdown",
      "metadata": {
        "id": "ngaBNWr4sfit"
      },
      "source": [
        "# **Classification**"
      ]
    },
    {
      "cell_type": "code",
      "execution_count": null,
      "metadata": {
        "colab": {
          "base_uri": "https://localhost:8080/",
          "height": 297
        },
        "id": "W7PPKcPJsbzV",
        "outputId": "754aa55d-c822-475a-aa78-081f7c4ada38"
      },
      "outputs": [
        {
          "output_type": "execute_result",
          "data": {
            "text/plain": [
              "   id         label  jml_follower  jml_following  mention  hastag  website  \\\n",
              "0   1   Neuroticism           105             49      479      11       36   \n",
              "1   2   Neuroticism           208              3       35       1        0   \n",
              "2   3  Extraversion            28              6       15       0       14   \n",
              "3   4   Neuroticism            12              5        4       0        0   \n",
              "4   5   Neuroticism            29              7        6       0        4   \n",
              "\n",
              "   retweet  media_url  tanda_baca  ...       721       722       728  \\\n",
              "0        2        NaN        2106  ...  0.012869  0.032467 -0.014243   \n",
              "1        0        NaN          23  ...  0.028648 -0.033911  0.025756   \n",
              "2        0        NaN         116  ... -0.038000  0.057100  0.079510   \n",
              "3        0        NaN          11  ...  0.018069  0.035932 -0.056163   \n",
              "4        0        NaN          35  ...  0.001721  0.057157 -0.049383   \n",
              "\n",
              "        746       752       754       757       762       764       765  \n",
              "0  0.056431 -0.190102 -0.133624  0.082301 -0.042016  0.311106 -0.290549  \n",
              "1  0.050759 -0.156194  0.000192  0.082167  0.030049  0.252277 -0.164396  \n",
              "2  0.118533  0.096690  0.018579 -0.003807  0.224666  0.224184 -0.237395  \n",
              "3  0.075076 -0.183413 -0.178944  0.050251  0.033786  0.224241 -0.164161  \n",
              "4  0.058470 -0.169798 -0.099824  0.031424  0.060765  0.302660 -0.226166  \n",
              "\n",
              "[5 rows x 312 columns]"
            ],
            "text/html": [
              "\n",
              "  <div id=\"df-686d3204-693d-4983-b68b-7d529916efb3\">\n",
              "    <div class=\"colab-df-container\">\n",
              "      <div>\n",
              "<style scoped>\n",
              "    .dataframe tbody tr th:only-of-type {\n",
              "        vertical-align: middle;\n",
              "    }\n",
              "\n",
              "    .dataframe tbody tr th {\n",
              "        vertical-align: top;\n",
              "    }\n",
              "\n",
              "    .dataframe thead th {\n",
              "        text-align: right;\n",
              "    }\n",
              "</style>\n",
              "<table border=\"1\" class=\"dataframe\">\n",
              "  <thead>\n",
              "    <tr style=\"text-align: right;\">\n",
              "      <th></th>\n",
              "      <th>id</th>\n",
              "      <th>label</th>\n",
              "      <th>jml_follower</th>\n",
              "      <th>jml_following</th>\n",
              "      <th>mention</th>\n",
              "      <th>hastag</th>\n",
              "      <th>website</th>\n",
              "      <th>retweet</th>\n",
              "      <th>media_url</th>\n",
              "      <th>tanda_baca</th>\n",
              "      <th>...</th>\n",
              "      <th>721</th>\n",
              "      <th>722</th>\n",
              "      <th>728</th>\n",
              "      <th>746</th>\n",
              "      <th>752</th>\n",
              "      <th>754</th>\n",
              "      <th>757</th>\n",
              "      <th>762</th>\n",
              "      <th>764</th>\n",
              "      <th>765</th>\n",
              "    </tr>\n",
              "  </thead>\n",
              "  <tbody>\n",
              "    <tr>\n",
              "      <th>0</th>\n",
              "      <td>1</td>\n",
              "      <td>Neuroticism</td>\n",
              "      <td>105</td>\n",
              "      <td>49</td>\n",
              "      <td>479</td>\n",
              "      <td>11</td>\n",
              "      <td>36</td>\n",
              "      <td>2</td>\n",
              "      <td>NaN</td>\n",
              "      <td>2106</td>\n",
              "      <td>...</td>\n",
              "      <td>0.012869</td>\n",
              "      <td>0.032467</td>\n",
              "      <td>-0.014243</td>\n",
              "      <td>0.056431</td>\n",
              "      <td>-0.190102</td>\n",
              "      <td>-0.133624</td>\n",
              "      <td>0.082301</td>\n",
              "      <td>-0.042016</td>\n",
              "      <td>0.311106</td>\n",
              "      <td>-0.290549</td>\n",
              "    </tr>\n",
              "    <tr>\n",
              "      <th>1</th>\n",
              "      <td>2</td>\n",
              "      <td>Neuroticism</td>\n",
              "      <td>208</td>\n",
              "      <td>3</td>\n",
              "      <td>35</td>\n",
              "      <td>1</td>\n",
              "      <td>0</td>\n",
              "      <td>0</td>\n",
              "      <td>NaN</td>\n",
              "      <td>23</td>\n",
              "      <td>...</td>\n",
              "      <td>0.028648</td>\n",
              "      <td>-0.033911</td>\n",
              "      <td>0.025756</td>\n",
              "      <td>0.050759</td>\n",
              "      <td>-0.156194</td>\n",
              "      <td>0.000192</td>\n",
              "      <td>0.082167</td>\n",
              "      <td>0.030049</td>\n",
              "      <td>0.252277</td>\n",
              "      <td>-0.164396</td>\n",
              "    </tr>\n",
              "    <tr>\n",
              "      <th>2</th>\n",
              "      <td>3</td>\n",
              "      <td>Extraversion</td>\n",
              "      <td>28</td>\n",
              "      <td>6</td>\n",
              "      <td>15</td>\n",
              "      <td>0</td>\n",
              "      <td>14</td>\n",
              "      <td>0</td>\n",
              "      <td>NaN</td>\n",
              "      <td>116</td>\n",
              "      <td>...</td>\n",
              "      <td>-0.038000</td>\n",
              "      <td>0.057100</td>\n",
              "      <td>0.079510</td>\n",
              "      <td>0.118533</td>\n",
              "      <td>0.096690</td>\n",
              "      <td>0.018579</td>\n",
              "      <td>-0.003807</td>\n",
              "      <td>0.224666</td>\n",
              "      <td>0.224184</td>\n",
              "      <td>-0.237395</td>\n",
              "    </tr>\n",
              "    <tr>\n",
              "      <th>3</th>\n",
              "      <td>4</td>\n",
              "      <td>Neuroticism</td>\n",
              "      <td>12</td>\n",
              "      <td>5</td>\n",
              "      <td>4</td>\n",
              "      <td>0</td>\n",
              "      <td>0</td>\n",
              "      <td>0</td>\n",
              "      <td>NaN</td>\n",
              "      <td>11</td>\n",
              "      <td>...</td>\n",
              "      <td>0.018069</td>\n",
              "      <td>0.035932</td>\n",
              "      <td>-0.056163</td>\n",
              "      <td>0.075076</td>\n",
              "      <td>-0.183413</td>\n",
              "      <td>-0.178944</td>\n",
              "      <td>0.050251</td>\n",
              "      <td>0.033786</td>\n",
              "      <td>0.224241</td>\n",
              "      <td>-0.164161</td>\n",
              "    </tr>\n",
              "    <tr>\n",
              "      <th>4</th>\n",
              "      <td>5</td>\n",
              "      <td>Neuroticism</td>\n",
              "      <td>29</td>\n",
              "      <td>7</td>\n",
              "      <td>6</td>\n",
              "      <td>0</td>\n",
              "      <td>4</td>\n",
              "      <td>0</td>\n",
              "      <td>NaN</td>\n",
              "      <td>35</td>\n",
              "      <td>...</td>\n",
              "      <td>0.001721</td>\n",
              "      <td>0.057157</td>\n",
              "      <td>-0.049383</td>\n",
              "      <td>0.058470</td>\n",
              "      <td>-0.169798</td>\n",
              "      <td>-0.099824</td>\n",
              "      <td>0.031424</td>\n",
              "      <td>0.060765</td>\n",
              "      <td>0.302660</td>\n",
              "      <td>-0.226166</td>\n",
              "    </tr>\n",
              "  </tbody>\n",
              "</table>\n",
              "<p>5 rows × 312 columns</p>\n",
              "</div>\n",
              "      <button class=\"colab-df-convert\" onclick=\"convertToInteractive('df-686d3204-693d-4983-b68b-7d529916efb3')\"\n",
              "              title=\"Convert this dataframe to an interactive table.\"\n",
              "              style=\"display:none;\">\n",
              "        \n",
              "  <svg xmlns=\"http://www.w3.org/2000/svg\" height=\"24px\"viewBox=\"0 0 24 24\"\n",
              "       width=\"24px\">\n",
              "    <path d=\"M0 0h24v24H0V0z\" fill=\"none\"/>\n",
              "    <path d=\"M18.56 5.44l.94 2.06.94-2.06 2.06-.94-2.06-.94-.94-2.06-.94 2.06-2.06.94zm-11 1L8.5 8.5l.94-2.06 2.06-.94-2.06-.94L8.5 2.5l-.94 2.06-2.06.94zm10 10l.94 2.06.94-2.06 2.06-.94-2.06-.94-.94-2.06-.94 2.06-2.06.94z\"/><path d=\"M17.41 7.96l-1.37-1.37c-.4-.4-.92-.59-1.43-.59-.52 0-1.04.2-1.43.59L10.3 9.45l-7.72 7.72c-.78.78-.78 2.05 0 2.83L4 21.41c.39.39.9.59 1.41.59.51 0 1.02-.2 1.41-.59l7.78-7.78 2.81-2.81c.8-.78.8-2.07 0-2.86zM5.41 20L4 18.59l7.72-7.72 1.47 1.35L5.41 20z\"/>\n",
              "  </svg>\n",
              "      </button>\n",
              "      \n",
              "  <style>\n",
              "    .colab-df-container {\n",
              "      display:flex;\n",
              "      flex-wrap:wrap;\n",
              "      gap: 12px;\n",
              "    }\n",
              "\n",
              "    .colab-df-convert {\n",
              "      background-color: #E8F0FE;\n",
              "      border: none;\n",
              "      border-radius: 50%;\n",
              "      cursor: pointer;\n",
              "      display: none;\n",
              "      fill: #1967D2;\n",
              "      height: 32px;\n",
              "      padding: 0 0 0 0;\n",
              "      width: 32px;\n",
              "    }\n",
              "\n",
              "    .colab-df-convert:hover {\n",
              "      background-color: #E2EBFA;\n",
              "      box-shadow: 0px 1px 2px rgba(60, 64, 67, 0.3), 0px 1px 3px 1px rgba(60, 64, 67, 0.15);\n",
              "      fill: #174EA6;\n",
              "    }\n",
              "\n",
              "    [theme=dark] .colab-df-convert {\n",
              "      background-color: #3B4455;\n",
              "      fill: #D2E3FC;\n",
              "    }\n",
              "\n",
              "    [theme=dark] .colab-df-convert:hover {\n",
              "      background-color: #434B5C;\n",
              "      box-shadow: 0px 1px 3px 1px rgba(0, 0, 0, 0.15);\n",
              "      filter: drop-shadow(0px 1px 2px rgba(0, 0, 0, 0.3));\n",
              "      fill: #FFFFFF;\n",
              "    }\n",
              "  </style>\n",
              "\n",
              "      <script>\n",
              "        const buttonEl =\n",
              "          document.querySelector('#df-686d3204-693d-4983-b68b-7d529916efb3 button.colab-df-convert');\n",
              "        buttonEl.style.display =\n",
              "          google.colab.kernel.accessAllowed ? 'block' : 'none';\n",
              "\n",
              "        async function convertToInteractive(key) {\n",
              "          const element = document.querySelector('#df-686d3204-693d-4983-b68b-7d529916efb3');\n",
              "          const dataTable =\n",
              "            await google.colab.kernel.invokeFunction('convertToInteractive',\n",
              "                                                     [key], {});\n",
              "          if (!dataTable) return;\n",
              "\n",
              "          const docLinkHtml = 'Like what you see? Visit the ' +\n",
              "            '<a target=\"_blank\" href=https://colab.research.google.com/notebooks/data_table.ipynb>data table notebook</a>'\n",
              "            + ' to learn more about interactive tables.';\n",
              "          element.innerHTML = '';\n",
              "          dataTable['output_type'] = 'display_data';\n",
              "          await google.colab.output.renderOutput(dataTable, element);\n",
              "          const docLink = document.createElement('div');\n",
              "          docLink.innerHTML = docLinkHtml;\n",
              "          element.appendChild(docLink);\n",
              "        }\n",
              "      </script>\n",
              "    </div>\n",
              "  </div>\n",
              "  "
            ]
          },
          "metadata": {},
          "execution_count": 1526
        }
      ],
      "source": [
        "data_set = pd.read_csv('AllDataSet.csv')\n",
        "data_set.head()"
      ]
    },
    {
      "cell_type": "code",
      "execution_count": null,
      "metadata": {
        "colab": {
          "base_uri": "https://localhost:8080/",
          "height": 297
        },
        "id": "bW3ZlzUn8hte",
        "outputId": "5d7b6003-27c0-4372-f018-0f3a033985e9"
      },
      "outputs": [
        {
          "output_type": "execute_result",
          "data": {
            "text/plain": [
              "    id              label  jml_follower  jml_following  mention  hastag  \\\n",
              "33  34       Extraversion           164            230      504       9   \n",
              "34  35       Extraversion            80            117      936      60   \n",
              "35  36       Extraversion           148            139     1051     163   \n",
              "36  37  Conscientiousness           275            269      427       9   \n",
              "37  38  Conscientiousness            41             68       53       0   \n",
              "\n",
              "    website  retweet  media_url  tanda_baca  ...       721       722  \\\n",
              "33       52       63      136.0          64  ...  0.015003  0.038156   \n",
              "34       59      662      450.0         158  ...  0.031063  0.022182   \n",
              "35      106      589      188.0         293  ...  0.040425  0.071166   \n",
              "36       69       35       85.0         121  ...  0.051377  0.039937   \n",
              "37        1        6       12.0          22  ...  0.031145  0.037189   \n",
              "\n",
              "         728       746       752       754       757       762       764  \\\n",
              "33 -0.081351  0.071780 -0.232008 -0.215532  0.075254 -0.046680  0.284958   \n",
              "34 -0.096391  0.024535 -0.128984 -0.217036  0.090163  0.001545  0.226108   \n",
              "35 -0.126330  0.066945 -0.198566 -0.216991  0.119759 -0.083423  0.366744   \n",
              "36 -0.101809  0.053524  0.034927 -0.220603  0.058793 -0.078397  0.376519   \n",
              "37 -0.088004  0.028464 -0.062389 -0.217802  0.109567 -0.088614  0.440110   \n",
              "\n",
              "         765  \n",
              "33 -0.177090  \n",
              "34 -0.194871  \n",
              "35 -0.204381  \n",
              "36 -0.255085  \n",
              "37 -0.149171  \n",
              "\n",
              "[5 rows x 312 columns]"
            ],
            "text/html": [
              "\n",
              "  <div id=\"df-8738e3ec-8fae-4a08-a877-9d7001db216b\">\n",
              "    <div class=\"colab-df-container\">\n",
              "      <div>\n",
              "<style scoped>\n",
              "    .dataframe tbody tr th:only-of-type {\n",
              "        vertical-align: middle;\n",
              "    }\n",
              "\n",
              "    .dataframe tbody tr th {\n",
              "        vertical-align: top;\n",
              "    }\n",
              "\n",
              "    .dataframe thead th {\n",
              "        text-align: right;\n",
              "    }\n",
              "</style>\n",
              "<table border=\"1\" class=\"dataframe\">\n",
              "  <thead>\n",
              "    <tr style=\"text-align: right;\">\n",
              "      <th></th>\n",
              "      <th>id</th>\n",
              "      <th>label</th>\n",
              "      <th>jml_follower</th>\n",
              "      <th>jml_following</th>\n",
              "      <th>mention</th>\n",
              "      <th>hastag</th>\n",
              "      <th>website</th>\n",
              "      <th>retweet</th>\n",
              "      <th>media_url</th>\n",
              "      <th>tanda_baca</th>\n",
              "      <th>...</th>\n",
              "      <th>721</th>\n",
              "      <th>722</th>\n",
              "      <th>728</th>\n",
              "      <th>746</th>\n",
              "      <th>752</th>\n",
              "      <th>754</th>\n",
              "      <th>757</th>\n",
              "      <th>762</th>\n",
              "      <th>764</th>\n",
              "      <th>765</th>\n",
              "    </tr>\n",
              "  </thead>\n",
              "  <tbody>\n",
              "    <tr>\n",
              "      <th>33</th>\n",
              "      <td>34</td>\n",
              "      <td>Extraversion</td>\n",
              "      <td>164</td>\n",
              "      <td>230</td>\n",
              "      <td>504</td>\n",
              "      <td>9</td>\n",
              "      <td>52</td>\n",
              "      <td>63</td>\n",
              "      <td>136.0</td>\n",
              "      <td>64</td>\n",
              "      <td>...</td>\n",
              "      <td>0.015003</td>\n",
              "      <td>0.038156</td>\n",
              "      <td>-0.081351</td>\n",
              "      <td>0.071780</td>\n",
              "      <td>-0.232008</td>\n",
              "      <td>-0.215532</td>\n",
              "      <td>0.075254</td>\n",
              "      <td>-0.046680</td>\n",
              "      <td>0.284958</td>\n",
              "      <td>-0.177090</td>\n",
              "    </tr>\n",
              "    <tr>\n",
              "      <th>34</th>\n",
              "      <td>35</td>\n",
              "      <td>Extraversion</td>\n",
              "      <td>80</td>\n",
              "      <td>117</td>\n",
              "      <td>936</td>\n",
              "      <td>60</td>\n",
              "      <td>59</td>\n",
              "      <td>662</td>\n",
              "      <td>450.0</td>\n",
              "      <td>158</td>\n",
              "      <td>...</td>\n",
              "      <td>0.031063</td>\n",
              "      <td>0.022182</td>\n",
              "      <td>-0.096391</td>\n",
              "      <td>0.024535</td>\n",
              "      <td>-0.128984</td>\n",
              "      <td>-0.217036</td>\n",
              "      <td>0.090163</td>\n",
              "      <td>0.001545</td>\n",
              "      <td>0.226108</td>\n",
              "      <td>-0.194871</td>\n",
              "    </tr>\n",
              "    <tr>\n",
              "      <th>35</th>\n",
              "      <td>36</td>\n",
              "      <td>Extraversion</td>\n",
              "      <td>148</td>\n",
              "      <td>139</td>\n",
              "      <td>1051</td>\n",
              "      <td>163</td>\n",
              "      <td>106</td>\n",
              "      <td>589</td>\n",
              "      <td>188.0</td>\n",
              "      <td>293</td>\n",
              "      <td>...</td>\n",
              "      <td>0.040425</td>\n",
              "      <td>0.071166</td>\n",
              "      <td>-0.126330</td>\n",
              "      <td>0.066945</td>\n",
              "      <td>-0.198566</td>\n",
              "      <td>-0.216991</td>\n",
              "      <td>0.119759</td>\n",
              "      <td>-0.083423</td>\n",
              "      <td>0.366744</td>\n",
              "      <td>-0.204381</td>\n",
              "    </tr>\n",
              "    <tr>\n",
              "      <th>36</th>\n",
              "      <td>37</td>\n",
              "      <td>Conscientiousness</td>\n",
              "      <td>275</td>\n",
              "      <td>269</td>\n",
              "      <td>427</td>\n",
              "      <td>9</td>\n",
              "      <td>69</td>\n",
              "      <td>35</td>\n",
              "      <td>85.0</td>\n",
              "      <td>121</td>\n",
              "      <td>...</td>\n",
              "      <td>0.051377</td>\n",
              "      <td>0.039937</td>\n",
              "      <td>-0.101809</td>\n",
              "      <td>0.053524</td>\n",
              "      <td>0.034927</td>\n",
              "      <td>-0.220603</td>\n",
              "      <td>0.058793</td>\n",
              "      <td>-0.078397</td>\n",
              "      <td>0.376519</td>\n",
              "      <td>-0.255085</td>\n",
              "    </tr>\n",
              "    <tr>\n",
              "      <th>37</th>\n",
              "      <td>38</td>\n",
              "      <td>Conscientiousness</td>\n",
              "      <td>41</td>\n",
              "      <td>68</td>\n",
              "      <td>53</td>\n",
              "      <td>0</td>\n",
              "      <td>1</td>\n",
              "      <td>6</td>\n",
              "      <td>12.0</td>\n",
              "      <td>22</td>\n",
              "      <td>...</td>\n",
              "      <td>0.031145</td>\n",
              "      <td>0.037189</td>\n",
              "      <td>-0.088004</td>\n",
              "      <td>0.028464</td>\n",
              "      <td>-0.062389</td>\n",
              "      <td>-0.217802</td>\n",
              "      <td>0.109567</td>\n",
              "      <td>-0.088614</td>\n",
              "      <td>0.440110</td>\n",
              "      <td>-0.149171</td>\n",
              "    </tr>\n",
              "  </tbody>\n",
              "</table>\n",
              "<p>5 rows × 312 columns</p>\n",
              "</div>\n",
              "      <button class=\"colab-df-convert\" onclick=\"convertToInteractive('df-8738e3ec-8fae-4a08-a877-9d7001db216b')\"\n",
              "              title=\"Convert this dataframe to an interactive table.\"\n",
              "              style=\"display:none;\">\n",
              "        \n",
              "  <svg xmlns=\"http://www.w3.org/2000/svg\" height=\"24px\"viewBox=\"0 0 24 24\"\n",
              "       width=\"24px\">\n",
              "    <path d=\"M0 0h24v24H0V0z\" fill=\"none\"/>\n",
              "    <path d=\"M18.56 5.44l.94 2.06.94-2.06 2.06-.94-2.06-.94-.94-2.06-.94 2.06-2.06.94zm-11 1L8.5 8.5l.94-2.06 2.06-.94-2.06-.94L8.5 2.5l-.94 2.06-2.06.94zm10 10l.94 2.06.94-2.06 2.06-.94-2.06-.94-.94-2.06-.94 2.06-2.06.94z\"/><path d=\"M17.41 7.96l-1.37-1.37c-.4-.4-.92-.59-1.43-.59-.52 0-1.04.2-1.43.59L10.3 9.45l-7.72 7.72c-.78.78-.78 2.05 0 2.83L4 21.41c.39.39.9.59 1.41.59.51 0 1.02-.2 1.41-.59l7.78-7.78 2.81-2.81c.8-.78.8-2.07 0-2.86zM5.41 20L4 18.59l7.72-7.72 1.47 1.35L5.41 20z\"/>\n",
              "  </svg>\n",
              "      </button>\n",
              "      \n",
              "  <style>\n",
              "    .colab-df-container {\n",
              "      display:flex;\n",
              "      flex-wrap:wrap;\n",
              "      gap: 12px;\n",
              "    }\n",
              "\n",
              "    .colab-df-convert {\n",
              "      background-color: #E8F0FE;\n",
              "      border: none;\n",
              "      border-radius: 50%;\n",
              "      cursor: pointer;\n",
              "      display: none;\n",
              "      fill: #1967D2;\n",
              "      height: 32px;\n",
              "      padding: 0 0 0 0;\n",
              "      width: 32px;\n",
              "    }\n",
              "\n",
              "    .colab-df-convert:hover {\n",
              "      background-color: #E2EBFA;\n",
              "      box-shadow: 0px 1px 2px rgba(60, 64, 67, 0.3), 0px 1px 3px 1px rgba(60, 64, 67, 0.15);\n",
              "      fill: #174EA6;\n",
              "    }\n",
              "\n",
              "    [theme=dark] .colab-df-convert {\n",
              "      background-color: #3B4455;\n",
              "      fill: #D2E3FC;\n",
              "    }\n",
              "\n",
              "    [theme=dark] .colab-df-convert:hover {\n",
              "      background-color: #434B5C;\n",
              "      box-shadow: 0px 1px 3px 1px rgba(0, 0, 0, 0.15);\n",
              "      filter: drop-shadow(0px 1px 2px rgba(0, 0, 0, 0.3));\n",
              "      fill: #FFFFFF;\n",
              "    }\n",
              "  </style>\n",
              "\n",
              "      <script>\n",
              "        const buttonEl =\n",
              "          document.querySelector('#df-8738e3ec-8fae-4a08-a877-9d7001db216b button.colab-df-convert');\n",
              "        buttonEl.style.display =\n",
              "          google.colab.kernel.accessAllowed ? 'block' : 'none';\n",
              "\n",
              "        async function convertToInteractive(key) {\n",
              "          const element = document.querySelector('#df-8738e3ec-8fae-4a08-a877-9d7001db216b');\n",
              "          const dataTable =\n",
              "            await google.colab.kernel.invokeFunction('convertToInteractive',\n",
              "                                                     [key], {});\n",
              "          if (!dataTable) return;\n",
              "\n",
              "          const docLinkHtml = 'Like what you see? Visit the ' +\n",
              "            '<a target=\"_blank\" href=https://colab.research.google.com/notebooks/data_table.ipynb>data table notebook</a>'\n",
              "            + ' to learn more about interactive tables.';\n",
              "          element.innerHTML = '';\n",
              "          dataTable['output_type'] = 'display_data';\n",
              "          await google.colab.output.renderOutput(dataTable, element);\n",
              "          const docLink = document.createElement('div');\n",
              "          docLink.innerHTML = docLinkHtml;\n",
              "          element.appendChild(docLink);\n",
              "        }\n",
              "      </script>\n",
              "    </div>\n",
              "  </div>\n",
              "  "
            ]
          },
          "metadata": {},
          "execution_count": 1527
        }
      ],
      "source": [
        "data_set.isnull().values.any()\n",
        "data_set = data_set.dropna()\n",
        "data_set.head()"
      ]
    },
    {
      "cell_type": "code",
      "execution_count": null,
      "metadata": {
        "colab": {
          "base_uri": "https://localhost:8080/"
        },
        "id": "0DTaN0gO8ovJ",
        "outputId": "5b12df98-bd1b-462b-de90-bd7732e8aa46"
      },
      "outputs": [
        {
          "output_type": "execute_result",
          "data": {
            "text/plain": [
              "id                 int64\n",
              "label             object\n",
              "jml_follower       int64\n",
              "jml_following      int64\n",
              "mention            int64\n",
              "                  ...   \n",
              "754              float64\n",
              "757              float64\n",
              "762              float64\n",
              "764              float64\n",
              "765              float64\n",
              "Length: 312, dtype: object"
            ]
          },
          "metadata": {},
          "execution_count": 1528
        }
      ],
      "source": [
        "data_set.dtypes"
      ]
    },
    {
      "cell_type": "markdown",
      "metadata": {
        "id": "7hvv39Y3SEjV"
      },
      "source": [
        "**Pre Prosess**"
      ]
    },
    {
      "cell_type": "code",
      "execution_count": null,
      "metadata": {
        "colab": {
          "base_uri": "https://localhost:8080/"
        },
        "id": "yCLVfoMmUFOT",
        "outputId": "c41e2e98-9a79-4b73-dbf5-501200c8af8c"
      },
      "outputs": [
        {
          "output_type": "stream",
          "name": "stdout",
          "text": [
            "['id', 'label', 'jml_follower', 'jml_following', 'mention', 'hastag', 'website', 'retweet', 'media_url', 'tanda_baca', 'huruf_kapital', 'jml_tweet', 'Sum of orang pertama', 'Sum of orang kedua', 'Sum of Orang ketiga', 'Sum of orang jamak', 'Sum of kata ganti', 'Sum of negasi', 'Sum of persetujuan', 'Sum of preposisi', 'Sum of angka', 'Sum of mempengaruhi', 'Sum of perasaan positif', 'Sum of emosi negatif', 'Sum of kegelisahan', 'Sum of marah', 'Sum of sedih', 'Sum of perbedaan', 'Sum of belum pasti', 'Sum of kepastian', 'Sum of melihat', 'Sum of pendengaran', 'Sum of perasaan', 'Sum of komunikasi', 'Sum of teman', 'Sum of keluarga', 'Sum of manusia', 'Sum of waktu', 'Sum of sekolah', 'Sum of kerja', 'Sum of prestasi', 'Sum of ruumah', 'Sum of olahraga', 'Sum of tv/movies', 'Sum of musik', 'Sum of keuangan', 'Sum of metafisik', 'Sum of kematian', 'Sum of agama', 'Sum of seksual', 'Sum of makan/minum', 'Sum of tidur', 'Sum of penampilan', 'Sum of umpatan', 'Sum of orang pertama 2', 'Sum of orang kedua2', 'Sum of Orang ketiga2', 'Sum of orang jamak2', 'Sum of kata ganti2', 'Sum of persetujuan2', 'Sum of negasi2', 'Sum of preposisi2', 'Sum of angka2', 'Sum of mempengaruhi2', 'Sum of perasaan positif2', 'Sum of emosi negatif2', 'Sum of kegelisahan 2', 'Sum of marah2', 'Sum of sedih2', 'Sum of perbedaan2', 'Sum of belum pasti2', 'Sum of kepastian2', 'Sum of melihat2', 'Sum of pendengaran2', 'Sum of perasaan2', 'Sum of komunikasi2', 'Sum of teman 2', 'Sum of keluarga2', 'Sum of manusia2', 'Sum of waktu2', 'Sum of sekolah2', 'Sum of kerja2', 'Sum of prestasi2', 'Sum of ruumah2', 'Sum of olahraga2', 'Sum of tv/movies2', 'Sum of keuangan2', 'Sum of musik2', 'Sum of metafisik2', 'Sum of kematian2', 'Sum of agama2', 'Sum of seksual2', 'Sum of makan/minum2', 'Sum of tidur2', 'Sum of penampilan2', 'Sum of umpatan2', 'Sum of orang pertama 3', 'Sum of persetujuan3', 'Sum of kata ganti3', 'Sum of negasi3', 'Sum of orang kedua3', 'Sum of Orang ketiga3', 'Sum of orang jamak3', 'Sum of preposisi3', 'Sum of angka3', 'Sum of mempengaruhi3', 'Sum of perasaan positif3', 'Sum of emosi negatif3', 'Sum of kegelisahan 3', 'Sum of marah3', 'Sum of sedih3', 'Sum of belum pasti3', 'Sum of perbedaan3', 'Sum of kepastian3', 'Sum of melihat3', 'Sum of pendengaran3', 'Sum of perasaan3', 'Sum of komunikasi3', 'Sum of teman 3', 'Sum of keluarga3', 'Sum of manusia3', 'Sum of waktu3', 'Sum of sekolah3', 'Sum of kerja3', 'Sum of ruumah3', 'Sum of prestasi3', 'Sum of musik3', 'Sum of tv/movies3', 'Sum of olahraga3', 'Sum of keuangan3', 'Sum of metafisik3', 'Sum of kematian3', 'Sum of agama3', 'Sum of seksual3', 'Sum of makan/minum3', 'Sum of tidur3', 'Sum of penampilan3', 'Sum of umpatan3', 'Sum of orang kedua4', 'Sum of Orang ketiga4', 'Sum of orang pertama 4', 'Sum of orang jamak4', 'Sum of kata ganti4', 'Sum of negasi4', 'Sum of preposisi4', 'Sum of persetujuan4', 'Sum of angka4', 'Sum of mempengaruhi4', 'Sum of perasaan positif4', 'Sum of emosi negatif4', 'Sum of kegelisahan 4', 'Sum of marah4', 'Sum of sedih4', 'Sum of perbedaan4', 'Sum of belum pasti4', 'Sum of kepastian4', 'Sum of melihat4', 'Sum of pendengaran4', 'Sum of perasaan4', 'Sum of komunikasi4', 'Sum of teman 4', 'Sum of keluarga4', 'Sum of manusia4', 'Sum of waktu4', 'Sum of kerja4', 'Sum of sekolah4', 'Sum of prestasi4', 'Sum of olahraga4', 'Sum of ruumah4', 'Sum of tv/movies4', 'Sum of musik4', 'Sum of keuangan4', 'Sum of metafisik4', 'Sum of kematian4', 'Sum of seksual4', 'Sum of agama4', 'Sum of makan/minum4', 'Sum of tidur4', 'Sum of penampilan4', 'Sum of orang pertama 5', 'Sum of umpatan4', 'Sum of orang kedua5', 'Sum of orang jamak5', 'Sum of Orang ketiga5', 'Sum of kata ganti5', 'Sum of persetujuan5', 'Sum of negasi5', 'Sum of preposisi5', 'Sum of mempengaruhi5', 'Sum of angka5', 'Sum of perasaan positif5', 'Sum of kegelisahan 5', 'Sum of emosi negatif5', 'Sum of marah5', 'Sum of perbedaan5', 'Sum of sedih5', 'Sum of belum pasti5', 'Sum of kepastian5', 'Sum of pendengaran5', 'Sum of melihat5', 'Sum of perasaan5', 'Sum of teman 5', 'Sum of komunikasi5', 'Sum of keluarga5', 'Sum of manusia5', 'Sum of waktu5', 'Sum of sekolah5', 'Sum of kerja5', 'Sum of prestasi5', 'Sum of ruumah5', 'Sum of tv/movies5', 'Sum of olahraga5', 'Sum of musik5', 'Sum of keuangan5', 'Sum of metafisik5', 'Sum of kematian5', 'Sum of agama5', 'Sum of seksual5', 'Sum of makan/minum5', 'Sum of tidur5', 'Sum of penampilan5', 'Sum of umpatan5', '20', '23', '37', '41', '49', '70', '76', '80', '81', '87', '88', '93', '97', '102', '112', '118', '126', '127', '131', '145', '153', '161', '165', '166', '182', '194', '199', '204', '207', '213', '217', '219', '285', '296', '297', '308', '318', '323', '344', '345', '358', '359', '365', '381', '382', '387', '405', '408', '423', '426', '429', '437', '464', '519', '521', '533', '544', '545', '547', '557', '560', '565', '573', '582', '583', '588', '596', '613', '618', '651', '657', '662', '664', '665', '669', '675', '700', '709', '717', '720', '721', '722', '728', '746', '752', '754', '757', '762', '764', '765']\n"
          ]
        }
      ],
      "source": [
        "print(data_set.columns.tolist())\n"
      ]
    },
    {
      "cell_type": "code",
      "execution_count": null,
      "metadata": {
        "id": "jggOtXJOSAm1"
      },
      "outputs": [],
      "source": [
        "#data_set['label'] = LabelEncoder().fit_transform(data_set['label'])"
      ]
    },
    {
      "cell_type": "code",
      "source": [
        "nomer_label = {'Neuroticism': 1, 'Extraversion': 2, 'Agreeableness': 3, 'Conscientiousness': 4, 'Openness': 5}\n",
        "\n",
        "data_set['label'] = data_set['label'].map(nomer_label)\n",
        "data_set"
      ],
      "metadata": {
        "colab": {
          "base_uri": "https://localhost:8080/",
          "height": 483
        },
        "id": "ehOcoTPADhs-",
        "outputId": "85ac6d31-0f2c-4e34-c717-050986ce35f7"
      },
      "execution_count": null,
      "outputs": [
        {
          "output_type": "execute_result",
          "data": {
            "text/plain": [
              "      id  label  jml_follower  jml_following  mention  hastag  website  \\\n",
              "33    34      2           164            230      504       9       52   \n",
              "34    35      2            80            117      936      60       59   \n",
              "35    36      2           148            139     1051     163      106   \n",
              "36    37      4           275            269      427       9       69   \n",
              "37    38      4            41             68       53       0        1   \n",
              "..   ...    ...           ...            ...      ...     ...      ...   \n",
              "323  324      1           180            269      608      46       51   \n",
              "324  325      1           558           1634      154      41       63   \n",
              "325  326      1           180            160      170      18      327   \n",
              "326  327      1           131            191      340      68      148   \n",
              "327  328      1           705            595      561     120      308   \n",
              "\n",
              "     retweet  media_url  tanda_baca  ...       721       722       728  \\\n",
              "33        63      136.0          64  ...  0.015003  0.038156 -0.081351   \n",
              "34       662      450.0         158  ...  0.031063  0.022182 -0.096391   \n",
              "35       589      188.0         293  ...  0.040425  0.071166 -0.126330   \n",
              "36        35       85.0         121  ...  0.051377  0.039937 -0.101809   \n",
              "37         6       12.0          22  ...  0.031145  0.037189 -0.088004   \n",
              "..       ...        ...         ...  ...       ...       ...       ...   \n",
              "323      254      114.0         199  ...  0.036471  0.026948 -0.044550   \n",
              "324       30        0.0         404  ...  0.038901  0.040715 -0.055743   \n",
              "325       20        0.0          50  ...  0.040164  0.056540 -0.070978   \n",
              "326       39        5.0         284  ...  0.040905  0.019355 -0.079660   \n",
              "327       49       32.0         149  ...  0.044591  0.048591 -0.053810   \n",
              "\n",
              "          746       752       754       757       762       764       765  \n",
              "33   0.071780 -0.232008 -0.215532  0.075254 -0.046680  0.284958 -0.177090  \n",
              "34   0.024535 -0.128984 -0.217036  0.090163  0.001545  0.226108 -0.194871  \n",
              "35   0.066945 -0.198566 -0.216991  0.119759 -0.083423  0.366744 -0.204381  \n",
              "36   0.053524  0.034927 -0.220603  0.058793 -0.078397  0.376519 -0.255085  \n",
              "37   0.028464 -0.062389 -0.217802  0.109567 -0.088614  0.440110 -0.149171  \n",
              "..        ...       ...       ...       ...       ...       ...       ...  \n",
              "323  0.016149 -0.148810 -0.287224  0.046836 -0.033650  0.335810 -0.232729  \n",
              "324  0.052143 -0.125878 -0.180387  0.042281 -0.060073  0.347046 -0.320510  \n",
              "325  0.047773 -0.146574 -0.253139  0.022411 -0.084706  0.379509 -0.304063  \n",
              "326  0.037711 -0.143471 -0.256650  0.049175 -0.106044  0.394583 -0.236015  \n",
              "327  0.015454 -0.127857 -0.244438  0.014967 -0.085004  0.319200 -0.201563  \n",
              "\n",
              "[295 rows x 312 columns]"
            ],
            "text/html": [
              "\n",
              "  <div id=\"df-7389de9a-605c-4601-af15-bf78e5b40dd2\">\n",
              "    <div class=\"colab-df-container\">\n",
              "      <div>\n",
              "<style scoped>\n",
              "    .dataframe tbody tr th:only-of-type {\n",
              "        vertical-align: middle;\n",
              "    }\n",
              "\n",
              "    .dataframe tbody tr th {\n",
              "        vertical-align: top;\n",
              "    }\n",
              "\n",
              "    .dataframe thead th {\n",
              "        text-align: right;\n",
              "    }\n",
              "</style>\n",
              "<table border=\"1\" class=\"dataframe\">\n",
              "  <thead>\n",
              "    <tr style=\"text-align: right;\">\n",
              "      <th></th>\n",
              "      <th>id</th>\n",
              "      <th>label</th>\n",
              "      <th>jml_follower</th>\n",
              "      <th>jml_following</th>\n",
              "      <th>mention</th>\n",
              "      <th>hastag</th>\n",
              "      <th>website</th>\n",
              "      <th>retweet</th>\n",
              "      <th>media_url</th>\n",
              "      <th>tanda_baca</th>\n",
              "      <th>...</th>\n",
              "      <th>721</th>\n",
              "      <th>722</th>\n",
              "      <th>728</th>\n",
              "      <th>746</th>\n",
              "      <th>752</th>\n",
              "      <th>754</th>\n",
              "      <th>757</th>\n",
              "      <th>762</th>\n",
              "      <th>764</th>\n",
              "      <th>765</th>\n",
              "    </tr>\n",
              "  </thead>\n",
              "  <tbody>\n",
              "    <tr>\n",
              "      <th>33</th>\n",
              "      <td>34</td>\n",
              "      <td>2</td>\n",
              "      <td>164</td>\n",
              "      <td>230</td>\n",
              "      <td>504</td>\n",
              "      <td>9</td>\n",
              "      <td>52</td>\n",
              "      <td>63</td>\n",
              "      <td>136.0</td>\n",
              "      <td>64</td>\n",
              "      <td>...</td>\n",
              "      <td>0.015003</td>\n",
              "      <td>0.038156</td>\n",
              "      <td>-0.081351</td>\n",
              "      <td>0.071780</td>\n",
              "      <td>-0.232008</td>\n",
              "      <td>-0.215532</td>\n",
              "      <td>0.075254</td>\n",
              "      <td>-0.046680</td>\n",
              "      <td>0.284958</td>\n",
              "      <td>-0.177090</td>\n",
              "    </tr>\n",
              "    <tr>\n",
              "      <th>34</th>\n",
              "      <td>35</td>\n",
              "      <td>2</td>\n",
              "      <td>80</td>\n",
              "      <td>117</td>\n",
              "      <td>936</td>\n",
              "      <td>60</td>\n",
              "      <td>59</td>\n",
              "      <td>662</td>\n",
              "      <td>450.0</td>\n",
              "      <td>158</td>\n",
              "      <td>...</td>\n",
              "      <td>0.031063</td>\n",
              "      <td>0.022182</td>\n",
              "      <td>-0.096391</td>\n",
              "      <td>0.024535</td>\n",
              "      <td>-0.128984</td>\n",
              "      <td>-0.217036</td>\n",
              "      <td>0.090163</td>\n",
              "      <td>0.001545</td>\n",
              "      <td>0.226108</td>\n",
              "      <td>-0.194871</td>\n",
              "    </tr>\n",
              "    <tr>\n",
              "      <th>35</th>\n",
              "      <td>36</td>\n",
              "      <td>2</td>\n",
              "      <td>148</td>\n",
              "      <td>139</td>\n",
              "      <td>1051</td>\n",
              "      <td>163</td>\n",
              "      <td>106</td>\n",
              "      <td>589</td>\n",
              "      <td>188.0</td>\n",
              "      <td>293</td>\n",
              "      <td>...</td>\n",
              "      <td>0.040425</td>\n",
              "      <td>0.071166</td>\n",
              "      <td>-0.126330</td>\n",
              "      <td>0.066945</td>\n",
              "      <td>-0.198566</td>\n",
              "      <td>-0.216991</td>\n",
              "      <td>0.119759</td>\n",
              "      <td>-0.083423</td>\n",
              "      <td>0.366744</td>\n",
              "      <td>-0.204381</td>\n",
              "    </tr>\n",
              "    <tr>\n",
              "      <th>36</th>\n",
              "      <td>37</td>\n",
              "      <td>4</td>\n",
              "      <td>275</td>\n",
              "      <td>269</td>\n",
              "      <td>427</td>\n",
              "      <td>9</td>\n",
              "      <td>69</td>\n",
              "      <td>35</td>\n",
              "      <td>85.0</td>\n",
              "      <td>121</td>\n",
              "      <td>...</td>\n",
              "      <td>0.051377</td>\n",
              "      <td>0.039937</td>\n",
              "      <td>-0.101809</td>\n",
              "      <td>0.053524</td>\n",
              "      <td>0.034927</td>\n",
              "      <td>-0.220603</td>\n",
              "      <td>0.058793</td>\n",
              "      <td>-0.078397</td>\n",
              "      <td>0.376519</td>\n",
              "      <td>-0.255085</td>\n",
              "    </tr>\n",
              "    <tr>\n",
              "      <th>37</th>\n",
              "      <td>38</td>\n",
              "      <td>4</td>\n",
              "      <td>41</td>\n",
              "      <td>68</td>\n",
              "      <td>53</td>\n",
              "      <td>0</td>\n",
              "      <td>1</td>\n",
              "      <td>6</td>\n",
              "      <td>12.0</td>\n",
              "      <td>22</td>\n",
              "      <td>...</td>\n",
              "      <td>0.031145</td>\n",
              "      <td>0.037189</td>\n",
              "      <td>-0.088004</td>\n",
              "      <td>0.028464</td>\n",
              "      <td>-0.062389</td>\n",
              "      <td>-0.217802</td>\n",
              "      <td>0.109567</td>\n",
              "      <td>-0.088614</td>\n",
              "      <td>0.440110</td>\n",
              "      <td>-0.149171</td>\n",
              "    </tr>\n",
              "    <tr>\n",
              "      <th>...</th>\n",
              "      <td>...</td>\n",
              "      <td>...</td>\n",
              "      <td>...</td>\n",
              "      <td>...</td>\n",
              "      <td>...</td>\n",
              "      <td>...</td>\n",
              "      <td>...</td>\n",
              "      <td>...</td>\n",
              "      <td>...</td>\n",
              "      <td>...</td>\n",
              "      <td>...</td>\n",
              "      <td>...</td>\n",
              "      <td>...</td>\n",
              "      <td>...</td>\n",
              "      <td>...</td>\n",
              "      <td>...</td>\n",
              "      <td>...</td>\n",
              "      <td>...</td>\n",
              "      <td>...</td>\n",
              "      <td>...</td>\n",
              "      <td>...</td>\n",
              "    </tr>\n",
              "    <tr>\n",
              "      <th>323</th>\n",
              "      <td>324</td>\n",
              "      <td>1</td>\n",
              "      <td>180</td>\n",
              "      <td>269</td>\n",
              "      <td>608</td>\n",
              "      <td>46</td>\n",
              "      <td>51</td>\n",
              "      <td>254</td>\n",
              "      <td>114.0</td>\n",
              "      <td>199</td>\n",
              "      <td>...</td>\n",
              "      <td>0.036471</td>\n",
              "      <td>0.026948</td>\n",
              "      <td>-0.044550</td>\n",
              "      <td>0.016149</td>\n",
              "      <td>-0.148810</td>\n",
              "      <td>-0.287224</td>\n",
              "      <td>0.046836</td>\n",
              "      <td>-0.033650</td>\n",
              "      <td>0.335810</td>\n",
              "      <td>-0.232729</td>\n",
              "    </tr>\n",
              "    <tr>\n",
              "      <th>324</th>\n",
              "      <td>325</td>\n",
              "      <td>1</td>\n",
              "      <td>558</td>\n",
              "      <td>1634</td>\n",
              "      <td>154</td>\n",
              "      <td>41</td>\n",
              "      <td>63</td>\n",
              "      <td>30</td>\n",
              "      <td>0.0</td>\n",
              "      <td>404</td>\n",
              "      <td>...</td>\n",
              "      <td>0.038901</td>\n",
              "      <td>0.040715</td>\n",
              "      <td>-0.055743</td>\n",
              "      <td>0.052143</td>\n",
              "      <td>-0.125878</td>\n",
              "      <td>-0.180387</td>\n",
              "      <td>0.042281</td>\n",
              "      <td>-0.060073</td>\n",
              "      <td>0.347046</td>\n",
              "      <td>-0.320510</td>\n",
              "    </tr>\n",
              "    <tr>\n",
              "      <th>325</th>\n",
              "      <td>326</td>\n",
              "      <td>1</td>\n",
              "      <td>180</td>\n",
              "      <td>160</td>\n",
              "      <td>170</td>\n",
              "      <td>18</td>\n",
              "      <td>327</td>\n",
              "      <td>20</td>\n",
              "      <td>0.0</td>\n",
              "      <td>50</td>\n",
              "      <td>...</td>\n",
              "      <td>0.040164</td>\n",
              "      <td>0.056540</td>\n",
              "      <td>-0.070978</td>\n",
              "      <td>0.047773</td>\n",
              "      <td>-0.146574</td>\n",
              "      <td>-0.253139</td>\n",
              "      <td>0.022411</td>\n",
              "      <td>-0.084706</td>\n",
              "      <td>0.379509</td>\n",
              "      <td>-0.304063</td>\n",
              "    </tr>\n",
              "    <tr>\n",
              "      <th>326</th>\n",
              "      <td>327</td>\n",
              "      <td>1</td>\n",
              "      <td>131</td>\n",
              "      <td>191</td>\n",
              "      <td>340</td>\n",
              "      <td>68</td>\n",
              "      <td>148</td>\n",
              "      <td>39</td>\n",
              "      <td>5.0</td>\n",
              "      <td>284</td>\n",
              "      <td>...</td>\n",
              "      <td>0.040905</td>\n",
              "      <td>0.019355</td>\n",
              "      <td>-0.079660</td>\n",
              "      <td>0.037711</td>\n",
              "      <td>-0.143471</td>\n",
              "      <td>-0.256650</td>\n",
              "      <td>0.049175</td>\n",
              "      <td>-0.106044</td>\n",
              "      <td>0.394583</td>\n",
              "      <td>-0.236015</td>\n",
              "    </tr>\n",
              "    <tr>\n",
              "      <th>327</th>\n",
              "      <td>328</td>\n",
              "      <td>1</td>\n",
              "      <td>705</td>\n",
              "      <td>595</td>\n",
              "      <td>561</td>\n",
              "      <td>120</td>\n",
              "      <td>308</td>\n",
              "      <td>49</td>\n",
              "      <td>32.0</td>\n",
              "      <td>149</td>\n",
              "      <td>...</td>\n",
              "      <td>0.044591</td>\n",
              "      <td>0.048591</td>\n",
              "      <td>-0.053810</td>\n",
              "      <td>0.015454</td>\n",
              "      <td>-0.127857</td>\n",
              "      <td>-0.244438</td>\n",
              "      <td>0.014967</td>\n",
              "      <td>-0.085004</td>\n",
              "      <td>0.319200</td>\n",
              "      <td>-0.201563</td>\n",
              "    </tr>\n",
              "  </tbody>\n",
              "</table>\n",
              "<p>295 rows × 312 columns</p>\n",
              "</div>\n",
              "      <button class=\"colab-df-convert\" onclick=\"convertToInteractive('df-7389de9a-605c-4601-af15-bf78e5b40dd2')\"\n",
              "              title=\"Convert this dataframe to an interactive table.\"\n",
              "              style=\"display:none;\">\n",
              "        \n",
              "  <svg xmlns=\"http://www.w3.org/2000/svg\" height=\"24px\"viewBox=\"0 0 24 24\"\n",
              "       width=\"24px\">\n",
              "    <path d=\"M0 0h24v24H0V0z\" fill=\"none\"/>\n",
              "    <path d=\"M18.56 5.44l.94 2.06.94-2.06 2.06-.94-2.06-.94-.94-2.06-.94 2.06-2.06.94zm-11 1L8.5 8.5l.94-2.06 2.06-.94-2.06-.94L8.5 2.5l-.94 2.06-2.06.94zm10 10l.94 2.06.94-2.06 2.06-.94-2.06-.94-.94-2.06-.94 2.06-2.06.94z\"/><path d=\"M17.41 7.96l-1.37-1.37c-.4-.4-.92-.59-1.43-.59-.52 0-1.04.2-1.43.59L10.3 9.45l-7.72 7.72c-.78.78-.78 2.05 0 2.83L4 21.41c.39.39.9.59 1.41.59.51 0 1.02-.2 1.41-.59l7.78-7.78 2.81-2.81c.8-.78.8-2.07 0-2.86zM5.41 20L4 18.59l7.72-7.72 1.47 1.35L5.41 20z\"/>\n",
              "  </svg>\n",
              "      </button>\n",
              "      \n",
              "  <style>\n",
              "    .colab-df-container {\n",
              "      display:flex;\n",
              "      flex-wrap:wrap;\n",
              "      gap: 12px;\n",
              "    }\n",
              "\n",
              "    .colab-df-convert {\n",
              "      background-color: #E8F0FE;\n",
              "      border: none;\n",
              "      border-radius: 50%;\n",
              "      cursor: pointer;\n",
              "      display: none;\n",
              "      fill: #1967D2;\n",
              "      height: 32px;\n",
              "      padding: 0 0 0 0;\n",
              "      width: 32px;\n",
              "    }\n",
              "\n",
              "    .colab-df-convert:hover {\n",
              "      background-color: #E2EBFA;\n",
              "      box-shadow: 0px 1px 2px rgba(60, 64, 67, 0.3), 0px 1px 3px 1px rgba(60, 64, 67, 0.15);\n",
              "      fill: #174EA6;\n",
              "    }\n",
              "\n",
              "    [theme=dark] .colab-df-convert {\n",
              "      background-color: #3B4455;\n",
              "      fill: #D2E3FC;\n",
              "    }\n",
              "\n",
              "    [theme=dark] .colab-df-convert:hover {\n",
              "      background-color: #434B5C;\n",
              "      box-shadow: 0px 1px 3px 1px rgba(0, 0, 0, 0.15);\n",
              "      filter: drop-shadow(0px 1px 2px rgba(0, 0, 0, 0.3));\n",
              "      fill: #FFFFFF;\n",
              "    }\n",
              "  </style>\n",
              "\n",
              "      <script>\n",
              "        const buttonEl =\n",
              "          document.querySelector('#df-7389de9a-605c-4601-af15-bf78e5b40dd2 button.colab-df-convert');\n",
              "        buttonEl.style.display =\n",
              "          google.colab.kernel.accessAllowed ? 'block' : 'none';\n",
              "\n",
              "        async function convertToInteractive(key) {\n",
              "          const element = document.querySelector('#df-7389de9a-605c-4601-af15-bf78e5b40dd2');\n",
              "          const dataTable =\n",
              "            await google.colab.kernel.invokeFunction('convertToInteractive',\n",
              "                                                     [key], {});\n",
              "          if (!dataTable) return;\n",
              "\n",
              "          const docLinkHtml = 'Like what you see? Visit the ' +\n",
              "            '<a target=\"_blank\" href=https://colab.research.google.com/notebooks/data_table.ipynb>data table notebook</a>'\n",
              "            + ' to learn more about interactive tables.';\n",
              "          element.innerHTML = '';\n",
              "          dataTable['output_type'] = 'display_data';\n",
              "          await google.colab.output.renderOutput(dataTable, element);\n",
              "          const docLink = document.createElement('div');\n",
              "          docLink.innerHTML = docLinkHtml;\n",
              "          element.appendChild(docLink);\n",
              "        }\n",
              "      </script>\n",
              "    </div>\n",
              "  </div>\n",
              "  "
            ]
          },
          "metadata": {},
          "execution_count": 1531
        }
      ]
    },
    {
      "cell_type": "code",
      "execution_count": null,
      "metadata": {
        "id": "FG3x3LufgXOg"
      },
      "outputs": [],
      "source": [
        "data_set = data_set.drop(['id'], axis=1)"
      ]
    },
    {
      "cell_type": "code",
      "execution_count": null,
      "metadata": {
        "id": "wvEVNBK3gfhU"
      },
      "outputs": [],
      "source": [
        "data_set.head()\n",
        "y = data_set['label']\n",
        "x = data_set.drop(['label'], axis=1)\n"
      ]
    },
    {
      "cell_type": "markdown",
      "source": [
        "# **SMOTE**"
      ],
      "metadata": {
        "id": "IZgDTZWh4irh"
      }
    },
    {
      "cell_type": "code",
      "source": [
        "from imblearn.over_sampling import KMeansSMOTE"
      ],
      "metadata": {
        "id": "Etsjj0jEr5yo"
      },
      "execution_count": null,
      "outputs": []
    },
    {
      "cell_type": "code",
      "source": [
        "sm_smote = KMeansSMOTE(sampling_strategy = 'not majority')"
      ],
      "metadata": {
        "id": "u2jOsW7br70g"
      },
      "execution_count": null,
      "outputs": []
    },
    {
      "cell_type": "code",
      "source": [
        "x_sm, y_sm = sm_smote.fit_resample(x, y)\n",
        "y_sm = pd.DataFrame(y_sm, columns=['label'])\n",
        "print('Shape of training feature:', x_sm.shape)\n",
        "print('Shape of training label:', y_sm.shape)"
      ],
      "metadata": {
        "colab": {
          "base_uri": "https://localhost:8080/"
        },
        "id": "2dvHEFZmsIGt",
        "outputId": "8c8551bf-c0b3-43f7-e4e9-356a915d4f2a"
      },
      "execution_count": null,
      "outputs": [
        {
          "output_type": "stream",
          "name": "stdout",
          "text": [
            "Shape of training feature: (468, 310)\n",
            "Shape of training label: (468, 1)\n"
          ]
        }
      ]
    },
    {
      "cell_type": "markdown",
      "source": [
        "# **Split Data**"
      ],
      "metadata": {
        "id": "Ywr7GFpI4rMQ"
      }
    },
    {
      "cell_type": "code",
      "source": [
        "from sklearn.preprocessing import StandardScaler"
      ],
      "metadata": {
        "id": "X_wSXg-x4rMT"
      },
      "execution_count": null,
      "outputs": []
    },
    {
      "cell_type": "code",
      "source": [
        "x_train, x_valid, y_train, y_valid = train_test_split(x_sm, y_sm, test_size=0.2, random_state=50)\n",
        "# train.to_csv(\"train_df.csv\")\n",
        "# test.to_csv(\"test_df.csv\")"
      ],
      "metadata": {
        "id": "MlNAKBiN4rMU"
      },
      "execution_count": null,
      "outputs": []
    },
    {
      "cell_type": "code",
      "source": [
        "scaler = StandardScaler()\n",
        "x_train = scaler.fit_transform(x_train)\n",
        "x_valid = scaler.transform(x_valid)"
      ],
      "metadata": {
        "id": "M61K9muJ491l"
      },
      "execution_count": null,
      "outputs": []
    },
    {
      "cell_type": "markdown",
      "metadata": {
        "id": "Sr-HeuHX7RC7"
      },
      "source": [
        "# **Over Sampling**"
      ]
    },
    {
      "cell_type": "code",
      "execution_count": null,
      "metadata": {
        "colab": {
          "base_uri": "https://localhost:8080/",
          "height": 316
        },
        "id": "L6KPmWUT7Kqw",
        "outputId": "0d037301-35cf-4df7-885f-c3c9efd1434f"
      },
      "outputs": [
        {
          "output_type": "display_data",
          "data": {
            "text/plain": [
              "<Figure size 720x360 with 1 Axes>"
            ],
            "image/png": "[encoded data removed]"
          },
          "metadata": {
            "needs_background": "light"
          }
        }
      ],
      "source": [
        "label_df = pd.DataFrame(data=y_train, columns=['label'])\n",
        "fig, ax1 = plt.subplots(1, 1, figsize= (10, 5))\n",
        "label_df['label'].value_counts().plot(kind='bar', ax=ax1)\n",
        "plt.show()"
      ]
    },
    {
      "cell_type": "code",
      "execution_count": null,
      "metadata": {
        "id": "qRB1cp8Z7hqK"
      },
      "outputs": [],
      "source": [
        "from sklearn.preprocessing import StandardScaler\n",
        "scaler = StandardScaler()\n",
        "x_train = scaler.fit_transform(x_train)\n",
        "x_valid = scaler.transform(x_valid)"
      ]
    },
    {
      "cell_type": "markdown",
      "metadata": {
        "id": "NuiD9VRj7x5a"
      },
      "source": [
        "***Model Klasifikasi***"
      ]
    },
    {
      "cell_type": "code",
      "execution_count": null,
      "metadata": {
        "id": "Yt3KH2nm7131"
      },
      "outputs": [],
      "source": [
        "from sklearn.metrics import accuracy_score, mean_squared_error\n",
        "from sklearn.neighbors import KNeighborsClassifier\n",
        "from sklearn.metrics import classification_report, confusion_matrix\n",
        "import pickle"
      ]
    },
    {
      "cell_type": "code",
      "source": [
        "KNN_model_default = KNeighborsClassifier() #ini kalau diisi, fit tuningnya kosongin\n",
        "KNN_model_default.fit(x_train, y_train)\n",
        "y_pred_KNN_default =KNN_model_default.predict(x_valid)"
      ],
      "metadata": {
        "colab": {
          "base_uri": "https://localhost:8080/"
        },
        "id": "7BlVfiOYewhP",
        "outputId": "6b600fcc-39da-4493-9131-18eaef857a87"
      },
      "execution_count": null,
      "outputs": [
        {
          "output_type": "stream",
          "name": "stderr",
          "text": [
            "/usr/local/lib/python3.7/dist-packages/sklearn/neighbors/_classification.py:198: DataConversionWarning: A column-vector y was passed when a 1d array was expected. Please change the shape of y to (n_samples,), for example using ravel().\n",
            "  return self._fit(X, y)\n"
          ]
        }
      ]
    },
    {
      "cell_type": "code",
      "execution_count": null,
      "metadata": {
        "colab": {
          "base_uri": "https://localhost:8080/"
        },
        "id": "_5j0pidxo1Z2",
        "outputId": "38597dec-1634-407c-ecb8-c65784856fa2"
      },
      "outputs": [
        {
          "output_type": "stream",
          "name": "stdout",
          "text": [
            "              precision    recall  f1-score   support\n",
            "\n",
            "           1     0.6000    0.6818    0.6383        22\n",
            "           2     0.5556    0.6250    0.5882        16\n",
            "           3     0.7000    0.6667    0.6829        21\n",
            "           4     0.4000    0.4000    0.4000        15\n",
            "           5     0.5625    0.4500    0.5000        20\n",
            "\n",
            "    accuracy                         0.5745        94\n",
            "   macro avg     0.5636    0.5647    0.5619        94\n",
            "weighted avg     0.5749    0.5745    0.5723        94\n",
            "\n"
          ]
        }
      ],
      "source": [
        "print(classification_report(y_valid, y_pred_KNN_default,digits=4))"
      ]
    },
    {
      "cell_type": "markdown",
      "metadata": {
        "id": "I_aRCRsm51fj"
      },
      "source": [
        "# **Tuning**"
      ]
    },
    {
      "cell_type": "code",
      "source": [
        "from sklearn import metrics \n",
        "from sklearn.metrics import confusion_matrix\n",
        "from sklearn.metrics import classification_report\n",
        "from sklearn.metrics import roc_auc_score\n",
        "from sklearn.model_selection import GridSearchCV\n",
        "from sklearn.preprocessing import StandardScaler"
      ],
      "metadata": {
        "id": "FiFsDyT8O0mS"
      },
      "execution_count": null,
      "outputs": []
    },
    {
      "cell_type": "code",
      "source": [
        "estimator_KNN = KNeighborsClassifier() \n",
        "parameters_KNN = {\n",
        "    'n_neighbors': (1,10, 1),\n",
        "    'leaf_size': (20,40,1),\n",
        "    'p': (1,2),\n",
        "    'weights': ('uniform', 'distance'),\n",
        "    'metric': ('minkowski', 'chebyshev')}"
      ],
      "metadata": {
        "id": "cCq4uaz0RfCM"
      },
      "execution_count": null,
      "outputs": []
    },
    {
      "cell_type": "code",
      "source": [
        "grid_search_KNN = GridSearchCV(\n",
        "    estimator=estimator_KNN,\n",
        "    param_grid=parameters_KNN,\n",
        "    scoring = 'accuracy',\n",
        "    n_jobs = -1,\n",
        "    cv = 5)"
      ],
      "metadata": {
        "id": "qNCyGU5YRzDZ"
      },
      "execution_count": null,
      "outputs": []
    },
    {
      "cell_type": "code",
      "source": [
        "KNN_1=grid_search_KNN.fit(x_train, y_train)\n",
        "y_pred_KNN1 =KNN_1.predict(x_valid)"
      ],
      "metadata": {
        "id": "KpStan5sRovy",
        "colab": {
          "base_uri": "https://localhost:8080/"
        },
        "outputId": "56b3fc59-6c33-4503-fb6d-1e9abed22f0e"
      },
      "execution_count": null,
      "outputs": [
        {
          "output_type": "stream",
          "name": "stderr",
          "text": [
            "/usr/local/lib/python3.7/dist-packages/sklearn/neighbors/_classification.py:198: DataConversionWarning: A column-vector y was passed when a 1d array was expected. Please change the shape of y to (n_samples,), for example using ravel().\n",
            "  return self._fit(X, y)\n"
          ]
        }
      ]
    },
    {
      "cell_type": "code",
      "source": [
        "print(grid_search_KNN.best_params_ ) "
      ],
      "metadata": {
        "colab": {
          "base_uri": "https://localhost:8080/"
        },
        "id": "burF_go-c6XY",
        "outputId": "510772ba-0f01-4604-f791-1bb68d3c8daa"
      },
      "execution_count": null,
      "outputs": [
        {
          "output_type": "stream",
          "name": "stdout",
          "text": [
            "{'leaf_size': 20, 'metric': 'minkowski', 'n_neighbors': 1, 'p': 2, 'weights': 'uniform'}\n"
          ]
        }
      ]
    },
    {
      "cell_type": "code",
      "source": [
        "print('Best Score - KNN:', grid_search_KNN.best_score_ )"
      ],
      "metadata": {
        "id": "sd7VEvkOO7hU",
        "colab": {
          "base_uri": "https://localhost:8080/"
        },
        "outputId": "2ab80e5d-0c70-4ba2-90cb-3d16be4cfe01"
      },
      "execution_count": null,
      "outputs": [
        {
          "output_type": "stream",
          "name": "stdout",
          "text": [
            "Best Score - KNN: 0.6952792792792792\n"
          ]
        }
      ]
    },
    {
      "cell_type": "code",
      "source": [
        "KNN_2 = KNeighborsClassifier(leaf_size=20, metric='minkowski',\n",
        "                     metric_params=None, n_jobs=None, n_neighbors=1, p=1,\n",
        "                     weights='uniform')"
      ],
      "metadata": {
        "id": "BK2YsdewQlaR"
      },
      "execution_count": null,
      "outputs": []
    },
    {
      "cell_type": "code",
      "source": [
        "KNN_2.fit(x_train, y_train)"
      ],
      "metadata": {
        "colab": {
          "base_uri": "https://localhost:8080/"
        },
        "id": "ylpHQobeqqH1",
        "outputId": "5776746a-25d3-4d14-fb8a-0b959c21355a"
      },
      "execution_count": null,
      "outputs": [
        {
          "output_type": "stream",
          "name": "stderr",
          "text": [
            "/usr/local/lib/python3.7/dist-packages/sklearn/neighbors/_classification.py:198: DataConversionWarning: A column-vector y was passed when a 1d array was expected. Please change the shape of y to (n_samples,), for example using ravel().\n",
            "  return self._fit(X, y)\n"
          ]
        },
        {
          "output_type": "execute_result",
          "data": {
            "text/plain": [
              "KNeighborsClassifier(leaf_size=20, n_neighbors=1, p=1)"
            ]
          },
          "metadata": {},
          "execution_count": 1552
        }
      ]
    },
    {
      "cell_type": "code",
      "source": [
        "y_hat = KNN_2.predict(x_train)\n",
        "y_knn = KNN_2.predict(x_valid)"
      ],
      "metadata": {
        "id": "bftthuvRQXBY"
      },
      "execution_count": null,
      "outputs": []
    },
    {
      "cell_type": "code",
      "source": [
        "print(classification_report(y_valid, y_knn, digits=4))"
      ],
      "metadata": {
        "colab": {
          "base_uri": "https://localhost:8080/"
        },
        "id": "0MBKquA2k0eV",
        "outputId": "fa22384c-9652-4548-8f15-f3fcee028b44"
      },
      "execution_count": null,
      "outputs": [
        {
          "output_type": "stream",
          "name": "stdout",
          "text": [
            "              precision    recall  f1-score   support\n",
            "\n",
            "           1     0.6667    0.7273    0.6957        22\n",
            "           2     0.7143    0.6250    0.6667        16\n",
            "           3     0.7143    0.7143    0.7143        21\n",
            "           4     0.4706    0.5333    0.5000        15\n",
            "           5     0.6667    0.6000    0.6316        20\n",
            "\n",
            "    accuracy                         0.6489        94\n",
            "   macro avg     0.6465    0.6400    0.6416        94\n",
            "weighted avg     0.6541    0.6489    0.6500        94\n",
            "\n"
          ]
        }
      ]
    }
  ],
  "metadata": {
    "colab": {
      "collapsed_sections": [],
      "provenance": []
    },
    "kernelspec": {
      "display_name": "Python 3",
      "name": "python3"
    },
    "language_info": {
      "name": "python"
    }
  },
  "nbformat": 4,
  "nbformat_minor": 0
}